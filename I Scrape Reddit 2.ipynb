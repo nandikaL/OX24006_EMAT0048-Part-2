{
 "cells": [
  {
   "cell_type": "markdown",
   "id": "f8901efc-ea02-4868-80c6-040fdd237700",
   "metadata": {},
   "source": [
    "## Exploratory Analysis of Skincare Subreddits\n",
    "\n",
    "For this exploratory analysis, we are looking at skincare trends through reddit. Reddit has various skincare platforms, when searching \"Skincare on Reddit\" these are the top 3 subreddits: \n",
    "\n",
    "1. r/SkincareAddcition with 4.3m members\n",
    "2. r/AsianBeauty with 2.9m members\n",
    "3. r/30PlusSkinCare with 2.1m members"
   ]
  },
  {
   "cell_type": "markdown",
   "id": "b678d248-6d16-4d26-8fd6-3497decdfaab",
   "metadata": {},
   "source": [
    "Exploratory data analysis will be on these three subreddits. We are going to first explore the top posts of each subreddits. \n",
    "\n",
    "1st = just a table to see the top 100 posts \n",
    "2nd = table to see how often certain ingredients have been referenced over the three subs\n",
    "3rd = table to see top posts which have referenced these ingredients in title "
   ]
  },
  {
   "cell_type": "code",
   "execution_count": 3,
   "id": "002877e2-f608-4b32-bf68-74a4c62305aa",
   "metadata": {},
   "outputs": [],
   "source": [
    "#!pip install praw"
   ]
  },
  {
   "cell_type": "code",
   "execution_count": 5,
   "id": "7a51438d-fcc4-4bda-bb92-bd224c2e9c3f",
   "metadata": {},
   "outputs": [],
   "source": [
    "import datetime\n",
    "import praw \n",
    "import pandas as pd\n",
    "\n",
    "client_id = '5KkxQHtUgHzvz6pPMTbvSw'\n",
    "client_secret = 'mWXvZcxvcpyEheEt_gM_3ODTvOBw7g'\n",
    "user_agent = 'cryinginpython98'\n",
    "\n",
    "reddit = praw.Reddit(client_id=client_id,client_secret=client_secret,user_agent=user_agent)\n",
    "\n",
    "#create a list of subreddits \n",
    "#create empty list for the posts \n",
    "#loop through - take title, body, upvotes, comment, created "
   ]
  },
  {
   "cell_type": "code",
   "execution_count": 7,
   "id": "b965ada3-66ef-4dfa-a949-8554462a54e3",
   "metadata": {},
   "outputs": [
    {
     "name": "stdout",
     "output_type": "stream",
     "text": [
      "True\n"
     ]
    }
   ],
   "source": [
    "print(reddit.read_only) #check if it is working, needs to output == True"
   ]
  },
  {
   "cell_type": "code",
   "execution_count": 9,
   "id": "3eab47ec-3adb-4e6f-befc-a83fa0cb60d9",
   "metadata": {},
   "outputs": [
    {
     "name": "stdout",
     "output_type": "stream",
     "text": [
      "Display Name: SkincareAddiction\n",
      "Title: For anything and everything having to do with skincare!\n",
      "Display Name: AsianBeauty\n",
      "Title: AsianBeauty\n",
      "Display Name: 30PlusSkinCare\n",
      "Title: Skin care for people over 30\n"
     ]
    }
   ],
   "source": [
    "subreddit1 = reddit.subreddit('SkincareAddiction')\n",
    "subreddit2 = reddit.subreddit('AsianBeauty')\n",
    "subreddit3 = reddit.subreddit('30PlusSkinCare')\n",
    "subreddits = [subreddit1,subreddit2,subreddit3]\n",
    "\n",
    "for subreddit in subreddits:\n",
    "    # Display the name of the Subreddit\n",
    "    print(\"Display Name:\", subreddit.display_name)\n",
    "    # Display the title of the Subreddit\n",
    "    print(\"Title:\", subreddit.title)"
   ]
  },
  {
   "cell_type": "code",
   "execution_count": 11,
   "id": "9648c459-54f8-4f69-9bfd-eae84a2d5ab1",
   "metadata": {},
   "outputs": [],
   "source": [
    "data = []"
   ]
  },
  {
   "cell_type": "code",
   "execution_count": 15,
   "id": "b8dbb7ab-8084-45ab-8385-78749cccdda0",
   "metadata": {},
   "outputs": [],
   "source": [
    "for subreddit in subreddits:\n",
    "    # Loop through the top 100 posts\n",
    "    for sub in subreddit.top(time_filter='year', limit=100):\n",
    "        sub_data = {\n",
    "            'subreddit': subreddit,\n",
    "            'title': sub.title,\n",
    "            'body': sub.selftext,\n",
    "            'upvotes': sub.score,\n",
    "            'num_comments': sub.num_comments,\n",
    "            'url': sub.url,\n",
    "        }\n",
    "        data.append(sub_data)"
   ]
  },
  {
   "cell_type": "code",
   "execution_count": 17,
   "id": "71a69230-80f1-4e4f-9bd1-1091780b46b9",
   "metadata": {},
   "outputs": [
    {
     "name": "stdout",
     "output_type": "stream",
     "text": [
      "300\n"
     ]
    }
   ],
   "source": [
    "print(len(data))"
   ]
  },
  {
   "cell_type": "code",
   "execution_count": 19,
   "id": "3900597d-1c64-42c6-8281-7dcc91e5d582",
   "metadata": {},
   "outputs": [],
   "source": [
    "df = pd.DataFrame(data)"
   ]
  },
  {
   "cell_type": "code",
   "execution_count": 23,
   "id": "6066843d-77a7-45d2-a96f-48c63ccf8cf5",
   "metadata": {},
   "outputs": [
    {
     "name": "stdout",
     "output_type": "stream",
     "text": [
      "             subreddit                                              title  \\\n",
      "0    SkincareAddiction                    [acne] My 8 month acne progress   \n",
      "1    SkincareAddiction      [B&A] I botox’d around my eyes for crows feet   \n",
      "2    SkincareAddiction      Rating every Moisturizer (tried 24+) [Review]   \n",
      "3    SkincareAddiction  [misc] I thought you guys might enjoy a gift m...   \n",
      "4    SkincareAddiction        [sun care] Rating. Every. Sunscreen. (30+)    \n",
      "..                 ...                                                ...   \n",
      "295     30PlusSkinCare                               40+ skin role models   \n",
      "296     30PlusSkinCare                 Dermatologists HATE them (You Lot)   \n",
      "297     30PlusSkinCare                           I’ve found my holy grail   \n",
      "298     30PlusSkinCare                      Upper Bleph - 10 Days Post-Op   \n",
      "299     30PlusSkinCare                            How do I age like this?   \n",
      "\n",
      "                                                  body  upvotes  num_comments  \\\n",
      "0    I’ve struggled with acne for roughly 3 years n...     6949           572   \n",
      "1    I botox’d around my eyes for crows feet\\n\\nWe ...     5727           452   \n",
      "2    Hi everyone!      \\n      \\nAfter my previous ...     5565           476   \n",
      "3                                                          4947            41   \n",
      "4    Happy SUNday everyone! As we know, sunscreen i...     4450           324   \n",
      "..                                                 ...      ...           ...   \n",
      "295                                                        1835           232   \n",
      "296  I've had better results from 4 months on this ...     1799           341   \n",
      "297  I’m going to be 31 soon and I’ve tried all sor...     1791           454   \n",
      "298                                                        1753           250   \n",
      "299  Okay, clearly she had a neck lift, but how do ...     1748           792   \n",
      "\n",
      "                                                   url  \n",
      "0               https://www.reddit.com/gallery/1f9z10l  \n",
      "1               https://www.reddit.com/gallery/19d8soo  \n",
      "2               https://www.reddit.com/gallery/1gwi8d2  \n",
      "3                 https://i.redd.it/cqqi647932sd1.jpeg  \n",
      "4               https://www.reddit.com/gallery/1dby4rh  \n",
      "..                                                 ...  \n",
      "295             https://www.reddit.com/gallery/1ae9dbt  \n",
      "296  https://www.reddit.com/r/30PlusSkinCare/commen...  \n",
      "297               https://i.redd.it/bpbwljsyp7dc1.jpeg  \n",
      "298               https://i.redd.it/zcvfrp83fhcd1.jpeg  \n",
      "299                https://i.redd.it/mi97rtk7f65c1.jpg  \n",
      "\n",
      "[300 rows x 6 columns]\n"
     ]
    }
   ],
   "source": [
    "print(df)"
   ]
  },
  {
   "cell_type": "raw",
   "id": "01888369-0323-4fee-b785-be2f0753c5a0",
   "metadata": {},
   "source": [
    "##this takes 20 mins to run only run when you need it LATER\n",
    "term = \"retinol\"\n",
    "count = 0\n",
    "for submission in subreddit.top(limit=1000):  # Limit to top 1000 posts\n",
    "    count += submission.title.lower().count(term.lower())  # Count term in title\n",
    "    for comment in submission.comments:\n",
    "        if isinstance(comment, praw.models.Comment):\n",
    "            count += comment.body.lower().count(term.lower())  # Count term in comments\n",
    "print(f\"Term '{term}' found {count} times.\")"
   ]
  },
  {
   "cell_type": "raw",
   "id": "7ecf08d0-1dd7-4852-8c38-6bd9c8d96440",
   "metadata": {},
   "source": [
    "##this takes 20 mins to run only run when you need it LATER\n",
    "for subreddit in subreddits:\n",
    "    # Loop through the top 100 posts\n",
    "    for sub in subreddit.top(limit=100):\n",
    "        sub_data = {\n",
    "            'subreddit': subreddit_name,\n",
    "            'title': sub.title,\n",
    "            'body': sub.selftext,\n",
    "            'upvotes': sub.score,\n",
    "            'num_comments': sub.num_comments,\n",
    "            'url': sub.url,\n",
    "        }\n",
    "        data.append(sub_data)"
   ]
  },
  {
   "cell_type": "code",
   "execution_count": null,
   "id": "cec22659-5153-4cd2-9bd8-acd8ef34e7f9",
   "metadata": {},
   "outputs": [],
   "source": [
    "### Ingridients reference - additional info\n",
    "ingredients = [\n",
    "    'retinol', 'vitamin c', 'hyaluronic', 'niacinamide', 'salicylic',\n",
    "    'benzoyl peroxide', 'glycerin', 'peptide', 'ceramide',\n",
    "    'bakuchiol', 'vitamin e', 'glycolic', 'AHA', 'BHA', 'PHA', \n",
    "    'squalene', 'jojoba', 'azelaic', 'hydroquinone', 'lactic'\n",
    "]\n",
    "\n",
    "ingredient_ments = {subreddit: {ingredient: 0 for ingredient in ingredients} for subreddit in subreddits}\n",
    "\n",
    "for subreddit in subreddits:\n",
    "    # Loop through the top 1000 posts\n",
    "    for sub in subreddit.top(limit=1000):\n",
    "        #count number of time each ingredient is referenced in either title or comment\n",
    "        #add to count, list/dictionary \n",
    "        #it will be a simple one: sub name: retinol: x number of time, hyaluronic: x number of time\n",
    "\n",
    "        title = sub.title.lower()\n",
    "        for ingredient in ingredients:\n",
    "            if ingredient in title:\n",
    "                ingredient_ments[subreddit][ingredient] += 1\n",
    "                \n",
    "        # Check the comments for the ingredients\n",
    "        sub.comments.replace_more(limit=0)  # To get all comments without 'MoreComments' object\n",
    "        for comment in sub.comments.list():\n",
    "            comment_body = comment.body.lower()\n",
    "            for ingredient in ingredients:\n",
    "                if ingredient in comment_body:\n",
    "                    ingredient_ments[subreddit][ingredient] += 1\n",
    "\n",
    "ing_data = []\n",
    "\n",
    "# Create data for each subreddit\n",
    "for subreddit_name, mentions in ingredient_mentions_per_sub.items():\n",
    "    for ingredient, count in mentions.items():\n",
    "        ing_data.append([subreddit, ingredient, count])\n",
    "\n",
    "# Create DataFrame\n",
    "df_ing = pd.DataFrame(data, columns=['Subreddit', 'Ingredient', 'Times Mentions'])\n",
    "        "
   ]
  },
  {
   "cell_type": "code",
   "execution_count": 32,
   "id": "5edc484e-0bec-4e75-8540-1c994bd069d0",
   "metadata": {},
   "outputs": [
    {
     "ename": "NameError",
     "evalue": "name 'df_ing' is not defined",
     "output_type": "error",
     "traceback": [
      "\u001b[0;31m---------------------------------------------------------------------------\u001b[0m",
      "\u001b[0;31mNameError\u001b[0m                                 Traceback (most recent call last)",
      "Cell \u001b[0;32mIn[32], line 1\u001b[0m\n\u001b[0;32m----> 1\u001b[0m \u001b[38;5;28mprint\u001b[39m(df_ing(head))\n",
      "\u001b[0;31mNameError\u001b[0m: name 'df_ing' is not defined"
     ]
    }
   ],
   "source": [
    "print(df_ing(head))"
   ]
  },
  {
   "cell_type": "code",
   "execution_count": 54,
   "id": "873e39a7-238b-48b5-95e7-a1032fce22d2",
   "metadata": {},
   "outputs": [
    {
     "name": "stdout",
     "output_type": "stream",
     "text": [
      "418\n"
     ]
    }
   ],
   "source": [
    "data_ing = []\n",
    "for subreddit in subreddits:\n",
    "    # Loop through the top 1000 posts\n",
    "    for sub in subreddit.top(limit=1000):\n",
    "        title = sub.title.lower()  # Make title lowercase for case-insensitive matching\n",
    "        body = sub.selftext.lower()\n",
    "        for ingredient in ingredients:\n",
    "            if ingredient in title or ingredient in body: \n",
    "                sub_data = {\n",
    "                    'subreddit': subreddit,\n",
    "                    'title': sub.title,\n",
    "                    'body': sub.selftext,\n",
    "                    'upvotes': sub.score,\n",
    "                    'num_comments': sub.num_comments,\n",
    "                    'url': sub.url,\n",
    "                    'ingredient' : ingredient\n",
    "                }\n",
    "                data_ing.append(sub_data)\n",
    "\n",
    "print(len(data_ing))"
   ]
  },
  {
   "cell_type": "code",
   "execution_count": 56,
   "id": "4734b3e5-f722-4e42-ada5-f140fc8d1f56",
   "metadata": {},
   "outputs": [
    {
     "name": "stdout",
     "output_type": "stream",
     "text": [
      "<class 'pandas.core.frame.DataFrame'>\n",
      "RangeIndex: 418 entries, 0 to 417\n",
      "Data columns (total 7 columns):\n",
      " #   Column        Non-Null Count  Dtype \n",
      "---  ------        --------------  ----- \n",
      " 0   subreddit     418 non-null    object\n",
      " 1   title         418 non-null    object\n",
      " 2   body          418 non-null    object\n",
      " 3   upvotes       418 non-null    int64 \n",
      " 4   num_comments  418 non-null    int64 \n",
      " 5   url           418 non-null    object\n",
      " 6   ingredient    418 non-null    object\n",
      "dtypes: int64(2), object(5)\n",
      "memory usage: 23.0+ KB\n"
     ]
    }
   ],
   "source": [
    "df_ing=pd.DataFrame(data_ing)\n",
    "df_ing.info()"
   ]
  },
  {
   "cell_type": "code",
   "execution_count": 58,
   "id": "0bbf146e-281d-41ee-86c6-29d43c818612",
   "metadata": {},
   "outputs": [
    {
     "name": "stdout",
     "output_type": "stream",
     "text": [
      "             subreddit                                              title  \\\n",
      "0    SkincareAddiction  [Anti-Aging] I may have used too much retinol ...   \n",
      "1    SkincareAddiction  [B&A] [Selfie] 3 microneedling sessions, 1 las...   \n",
      "2    SkincareAddiction  [Misc] Some of you need a therapist, not a der...   \n",
      "3    SkincareAddiction  [Selfie] After adding Vitamin C, Retinol, and ...   \n",
      "4    SkincareAddiction  [Selfie] After adding Vitamin C, Retinol, and ...   \n",
      "..                 ...                                                ...   \n",
      "413     30PlusSkinCare  Fuck. Just noticed this CeraVe moisturizer has...   \n",
      "414     30PlusSkinCare  Follow up to my forehead wrinkle skin care jou...   \n",
      "415     30PlusSkinCare  just turned 30 in April, looking for advice (s...   \n",
      "416     30PlusSkinCare  just turned 30 in April, looking for advice (s...   \n",
      "417     30PlusSkinCare  just turned 30 in April, looking for advice (s...   \n",
      "\n",
      "                                                  body  upvotes  num_comments  \\\n",
      "0                                                         15795           115   \n",
      "1                                                         11149           340   \n",
      "2    Some of the posts I see on here are incredibly...     7491           435   \n",
      "3                                                          6666           190   \n",
      "4                                                          6666           190   \n",
      "..                                                 ...      ...           ...   \n",
      "413  Could this be why my skin doesn’t seem moistur...      461           242   \n",
      "414                                                         459            67   \n",
      "415  Looking for cruelty free (and preferably vegan...      458           109   \n",
      "416  Looking for cruelty free (and preferably vegan...      458           109   \n",
      "417  Looking for cruelty free (and preferably vegan...      458           109   \n",
      "\n",
      "                                                   url  ingredient  \n",
      "0                  https://i.redd.it/r8g7c71mti3a1.jpg     retinol  \n",
      "1                  https://i.redd.it/ruermpk6cwg31.jpg  hyaluronic  \n",
      "2    https://www.reddit.com/r/SkincareAddiction/com...     retinol  \n",
      "3                      https://i.imgur.com/6OxUZtq.jpg     retinol  \n",
      "4                      https://i.imgur.com/6OxUZtq.jpg   vitamin c  \n",
      "..                                                 ...         ...  \n",
      "413             https://www.reddit.com/gallery/1ejwj6r  hyaluronic  \n",
      "414                https://i.redd.it/ageax2lvr3va1.jpg     retinol  \n",
      "415                https://i.redd.it/2pdxaf72h5g91.jpg     retinol  \n",
      "416                https://i.redd.it/2pdxaf72h5g91.jpg     peptide  \n",
      "417                https://i.redd.it/2pdxaf72h5g91.jpg    squalene  \n",
      "\n",
      "[418 rows x 7 columns]\n"
     ]
    }
   ],
   "source": [
    "print(df_ing)"
   ]
  },
  {
   "cell_type": "code",
   "execution_count": null,
   "id": "bac88ad1-e0be-4075-b5da-404369282914",
   "metadata": {},
   "outputs": [],
   "source": []
  }
 ],
 "metadata": {
  "kernelspec": {
   "display_name": "Python 3 (ipykernel)",
   "language": "python",
   "name": "python3"
  },
  "language_info": {
   "codemirror_mode": {
    "name": "ipython",
    "version": 3
   },
   "file_extension": ".py",
   "mimetype": "text/x-python",
   "name": "python",
   "nbconvert_exporter": "python",
   "pygments_lexer": "ipython3",
   "version": "3.12.4"
  }
 },
 "nbformat": 4,
 "nbformat_minor": 5
}
